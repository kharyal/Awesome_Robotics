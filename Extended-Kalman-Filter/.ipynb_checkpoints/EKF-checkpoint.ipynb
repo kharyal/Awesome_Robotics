{
 "cells": [
  {
   "cell_type": "markdown",
   "metadata": {},
   "source": [
    "### Extended Kalman Filter\n",
    "\n",
    "In this problem, we will try to estimate the position of a mobile robot in an environment. The controls that can be given to the robot are \"up\", \"down\", \"left\", \"right\", and \"stay\" and the robot moves accordingly. The sensors on the robot can measure square of the distance to some known checkpoints."
   ]
  },
  {
   "cell_type": "code",
   "execution_count": 1,
   "metadata": {},
   "outputs": [
    {
     "name": "stdout",
     "output_type": "stream",
     "text": [
      "pygame 2.0.0.dev6 (SDL 2.0.10, python 3.8.3)\n",
      "Hello from the pygame community. https://www.pygame.org/contribute.html\n"
     ]
    }
   ],
   "source": [
    "import numpy as np\n",
    "import pygame\n",
    "import os\n",
    "from copy import deepcopy\n",
    "import random"
   ]
  },
  {
   "cell_type": "code",
   "execution_count": 2,
   "metadata": {},
   "outputs": [],
   "source": [
    "def to_pygame(coords, height):\n",
    "    \"\"\"Convert coordinates into pygame coordinates (lower-left => top left).\"\"\"\n",
    "    return (coords[0], height - coords[1])\n",
    "\n",
    "def move(direction, speed, positon, sigma):\n",
    "    if direction == \"up\" and position[1] < 795:\n",
    "        position[1] = position[1] + speed + random.normalvariate(0, sigma)\n",
    "    elif direction == \"down\" and position[1] > 5:\n",
    "        position[1] = position[1] - speed + random.normalvariate(0, sigma)\n",
    "    elif direction == \"right\" and position[0] < 795:\n",
    "        position[0] = position[0] + speed + random.normalvariate(0, sigma)\n",
    "    elif direction == \"left\" and position[0] > 5:\n",
    "        position[0] = position[0] - speed + random.normalvariate(0, sigma)\n",
    "    else:\n",
    "        position[1] = position[1] + random.normalvariate(0, sigma)\n",
    "        position[0] = position[0] + random.normalvariate(0, sigma)\n",
    "        if position[1]<5:\n",
    "            position[1] = 5\n",
    "        elif position[1]>495:\n",
    "            position[1] = 495\n",
    "        if position[0]<5:\n",
    "            position[0] = 5\n",
    "        elif position[0]>495:\n",
    "            position[0] = 495\n",
    "\n",
    "    return position\n",
    "\n",
    "def get_measurement_from_sensors(position, checkpoints, sigma):\n",
    "    measurements = []\n",
    "    for checkpoint in checkpoints:\n",
    "        measurement = (position[0]-checkpoint[0])**2 + (position[1]-checkpoint[1])**2 + random.normalvariate(0, sigma)\n",
    "        measurements.append(deepcopy(measurement))\n",
    "    return measurements\n",
    "\n",
    "def calculate_H(u, checkpoints):\n",
    "    H = np.array([2*(u[0]-checkpoints[0][0]), 2*(u[1]-checkpoints[0][1])]).reshape(1,2)\n",
    "    for i in range(1, len(checkpoints)):\n",
    "        h = np.array([2*(u[0]-checkpoints[i][0]), 2*(u[1]-checkpoints[i][1])]).reshape(1,2)\n",
    "        H = np.vstack((H, h))\n",
    "    return H\n",
    "    \n",
    "def EKF(u, sigma, R,Q, z, speed, checkpoints):\n",
    "    u_ = u+speed\n",
    "    sigma_ = sigma + R\n",
    "    H = calculate_H(u_, checkpoints)\n",
    "    \n",
    "    K = sigma_.dot(H.T).dot(np.linalg.pinv(H.dot(sigma_).dot(H.T) + Q))\n",
    "    h_of_u_ = []\n",
    "    for checkpoint in checkpoints:\n",
    "        measurement = (u_[0]-checkpoint[0])**2 + (u_[1]-checkpoint[1])**2\n",
    "        h_of_u_.append(deepcopy(measurement))\n",
    "    h_of_u_ = np.array(h_of_u_).reshape(len(checkpoints),1)\n",
    "    u = u_ + K.dot(z - h_of_u_)\n",
    "    print(u.shape)\n",
    "    sigma = (np.eye(2) - K.dot(H)).dot(sigma_)\n",
    "    return u, sigma"
   ]
  },
  {
   "cell_type": "code",
   "execution_count": 3,
   "metadata": {},
   "outputs": [
    {
     "name": "stdout",
     "output_type": "stream",
     "text": [
      "(5, 1)\n"
     ]
    },
    {
     "ename": "TypeError",
     "evalue": "center argument must be a pair of numbers",
     "output_type": "error",
     "traceback": [
      "\u001b[0;31m---------------------------------------------------------------------------\u001b[0m",
      "\u001b[0;31mTypeError\u001b[0m                                 Traceback (most recent call last)",
      "\u001b[0;32m<ipython-input-3-1297ba05a2b6>\u001b[0m in \u001b[0;36m<module>\u001b[0;34m\u001b[0m\n\u001b[1;32m     71\u001b[0m     \u001b[0;32mfor\u001b[0m \u001b[0mcheckpoint\u001b[0m \u001b[0;32min\u001b[0m \u001b[0mcheckpoints\u001b[0m\u001b[0;34m:\u001b[0m\u001b[0;34m\u001b[0m\u001b[0;34m\u001b[0m\u001b[0m\n\u001b[1;32m     72\u001b[0m         \u001b[0mpygame\u001b[0m\u001b[0;34m.\u001b[0m\u001b[0mdraw\u001b[0m\u001b[0;34m.\u001b[0m\u001b[0mcircle\u001b[0m\u001b[0;34m(\u001b[0m\u001b[0mscreen\u001b[0m\u001b[0;34m,\u001b[0m \u001b[0;34m(\u001b[0m\u001b[0;36m255\u001b[0m\u001b[0;34m,\u001b[0m\u001b[0;36m0\u001b[0m\u001b[0;34m,\u001b[0m\u001b[0;36m0\u001b[0m\u001b[0;34m)\u001b[0m\u001b[0;34m,\u001b[0m \u001b[0mto_pygame\u001b[0m\u001b[0;34m(\u001b[0m\u001b[0mcheckpoint\u001b[0m\u001b[0;34m,\u001b[0m\u001b[0;36m800\u001b[0m\u001b[0;34m)\u001b[0m\u001b[0;34m,\u001b[0m \u001b[0;36m10\u001b[0m\u001b[0;34m)\u001b[0m\u001b[0;34m\u001b[0m\u001b[0;34m\u001b[0m\u001b[0m\n\u001b[0;32m---> 73\u001b[0;31m     \u001b[0mpygame\u001b[0m\u001b[0;34m.\u001b[0m\u001b[0mdraw\u001b[0m\u001b[0;34m.\u001b[0m\u001b[0mcircle\u001b[0m\u001b[0;34m(\u001b[0m\u001b[0mscreen\u001b[0m\u001b[0;34m,\u001b[0m \u001b[0;34m(\u001b[0m\u001b[0;36m255\u001b[0m\u001b[0;34m,\u001b[0m\u001b[0;36m0\u001b[0m\u001b[0;34m,\u001b[0m\u001b[0;36m255\u001b[0m\u001b[0;34m)\u001b[0m\u001b[0;34m,\u001b[0m \u001b[0mto_pygame\u001b[0m\u001b[0;34m(\u001b[0m\u001b[0mestimate\u001b[0m\u001b[0;34m,\u001b[0m\u001b[0;36m800\u001b[0m\u001b[0;34m)\u001b[0m\u001b[0;34m,\u001b[0m \u001b[0;36m15\u001b[0m\u001b[0;34m)\u001b[0m    \u001b[0;31m#predicted position\u001b[0m\u001b[0;34m\u001b[0m\u001b[0;34m\u001b[0m\u001b[0m\n\u001b[0m\u001b[1;32m     74\u001b[0m     \u001b[0mpygame\u001b[0m\u001b[0;34m.\u001b[0m\u001b[0mdraw\u001b[0m\u001b[0;34m.\u001b[0m\u001b[0mcircle\u001b[0m\u001b[0;34m(\u001b[0m\u001b[0mscreen\u001b[0m\u001b[0;34m,\u001b[0m \u001b[0;34m(\u001b[0m\u001b[0;36m0\u001b[0m\u001b[0;34m,\u001b[0m\u001b[0;36m255\u001b[0m\u001b[0;34m,\u001b[0m\u001b[0;36m255\u001b[0m\u001b[0;34m)\u001b[0m\u001b[0;34m,\u001b[0m \u001b[0mto_pygame\u001b[0m\u001b[0;34m(\u001b[0m\u001b[0mposition\u001b[0m\u001b[0;34m,\u001b[0m\u001b[0;36m800\u001b[0m\u001b[0;34m)\u001b[0m\u001b[0;34m,\u001b[0m \u001b[0;36m10\u001b[0m\u001b[0;34m)\u001b[0m     \u001b[0;31m#actual position\u001b[0m\u001b[0;34m\u001b[0m\u001b[0;34m\u001b[0m\u001b[0m\n\u001b[1;32m     75\u001b[0m     \u001b[0mpygame\u001b[0m\u001b[0;34m.\u001b[0m\u001b[0mdisplay\u001b[0m\u001b[0;34m.\u001b[0m\u001b[0mupdate\u001b[0m\u001b[0;34m(\u001b[0m\u001b[0;34m)\u001b[0m\u001b[0;34m\u001b[0m\u001b[0;34m\u001b[0m\u001b[0m\n",
      "\u001b[0;31mTypeError\u001b[0m: center argument must be a pair of numbers"
     ]
    }
   ],
   "source": [
    "screen = pygame.display.set_mode([800,800])\n",
    "pygame.display.set_caption(\"EKF\")\n",
    "\n",
    "crashed = False\n",
    "\n",
    "### checkpoints\n",
    "checkpoints = [\n",
    "    [100, 100],\n",
    "    [100, 600],\n",
    "    [300, 400],\n",
    "    [700, 300],\n",
    "    [700, 600]\n",
    "]\n",
    "\n",
    "terminal_speed = 8\n",
    "ticker = 0\n",
    "position = np.array([300,300]).reshape(2,1)\n",
    "estimate = deepcopy(position)\n",
    "\n",
    "sigma_control = 2\n",
    "sigma_sensor = 5\n",
    "sigma = 10*np.eye(2)\n",
    "\n",
    "while not crashed:\n",
    "    \n",
    "    ### taking care of keypresses\n",
    "    keys=pygame.key.get_pressed()\n",
    "    if keys[pygame.K_w]:\n",
    "        if ticker == 0:\n",
    "            position = move(\"up\", terminal_speed, position, sigma_control)\n",
    "        ticker = (ticker+1)%50\n",
    "        speed = [0, terminal_speed]\n",
    "    elif keys[pygame.K_s]:\n",
    "        if ticker == 0:\n",
    "            position = move(\"down\", terminal_speed, position, sigma_control)\n",
    "        ticker = (ticker+1)%50\n",
    "        speed = [0, -terminal_speed]\n",
    "    elif keys[pygame.K_a]:\n",
    "        if ticker == 0:\n",
    "            position = move(\"left\", terminal_speed, position, sigma_control)\n",
    "        ticker = (ticker+1)%50\n",
    "        speed = [-terminal_speed, 0]\n",
    "    elif keys[pygame.K_d]:\n",
    "        if ticker == 0:\n",
    "            position = move(\"right\", terminal_speed, position, sigma_control)\n",
    "        ticker = (ticker+1)%50\n",
    "        speed = [terminal_speed, 0]\n",
    "    else:\n",
    "        if ticker == 0:\n",
    "            position = move(\"stay\", terminal_speed, position, sigma_control)\n",
    "        ticker = (ticker+1)%50\n",
    "        speed = [0,0]\n",
    "        \n",
    "    for event in pygame.event.get():\n",
    "        if event.type == pygame.KEYDOWN:\n",
    "            if event.unicode == \"q\":\n",
    "                crashed = True\n",
    "            \n",
    "    if crashed:\n",
    "        exit()\n",
    "       \n",
    "    if ticker == 1:\n",
    "        measurements = get_measurement_from_sensors(position, checkpoints, sigma_sensor)\n",
    "        R = sigma_control*np.eye(2)\n",
    "        Q = sigma_sensor*np.eye(len(checkpoints))\n",
    "        measurements = np.array(measurements).reshape(len(checkpoints),1)\n",
    "        estimate, sigma = EKF(estimate, sigma, R,Q, measurements, np.array(speed).reshape(2,1), checkpoints)\n",
    "    \n",
    "    ### drawing elements on the screen\n",
    "    screen.fill((255,255,255))\n",
    "    for checkpoint in checkpoints:\n",
    "        pygame.draw.circle(screen, (255,0,0), to_pygame(checkpoint,800), 10)\n",
    "    pygame.draw.circle(screen, (255,0,255), to_pygame(estimate,800), 15)    #predicted position\n",
    "    pygame.draw.circle(screen, (0,255,255), to_pygame(position,800), 10)     #actual position\n",
    "    pygame.display.update()"
   ]
  }
 ],
 "metadata": {
  "kernelspec": {
   "display_name": "Python 3",
   "language": "python",
   "name": "python3"
  },
  "language_info": {
   "codemirror_mode": {
    "name": "ipython",
    "version": 3
   },
   "file_extension": ".py",
   "mimetype": "text/x-python",
   "name": "python",
   "nbconvert_exporter": "python",
   "pygments_lexer": "ipython3",
   "version": "3.8.3"
  }
 },
 "nbformat": 4,
 "nbformat_minor": 4
}
