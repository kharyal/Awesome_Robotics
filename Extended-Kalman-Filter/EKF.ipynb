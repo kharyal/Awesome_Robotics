{
 "cells": [
  {
   "cell_type": "markdown",
   "metadata": {},
   "source": [
    "### Extended Kalman Filter\n",
    "\n",
    "In this problem, we will try to estimate the position of a mobile robot in an environment. The controls that can be given to the robot are \"up\", \"down\", \"left\", \"right\", and \"stay\" and the robot moves accordingly. The sensors on the robot can measure square of the distance to some known checkpoints."
   ]
  },
  {
   "cell_type": "code",
   "execution_count": 1,
   "metadata": {},
   "outputs": [
    {
     "name": "stdout",
     "output_type": "stream",
     "text": [
      "pygame 2.0.0.dev6 (SDL 2.0.10, python 3.8.3)\n",
      "Hello from the pygame community. https://www.pygame.org/contribute.html\n"
     ]
    }
   ],
   "source": [
    "import numpy\n",
    "import pygame\n",
    "import os\n",
    "from copy import deepcopy\n",
    "import random"
   ]
  },
  {
   "cell_type": "code",
   "execution_count": 2,
   "metadata": {},
   "outputs": [],
   "source": [
    "def to_pygame(coords, height):\n",
    "    \"\"\"Convert coordinates into pygame coordinates (lower-left => top left).\"\"\"\n",
    "    return (coords[0], height - coords[1])\n",
    "\n",
    "def move(direction, speed, positon, sigma):\n",
    "    if direction == \"up\" and position[1] < 795:\n",
    "        position[1] = position[1] + speed + random.normalvariate(0, sigma)\n",
    "    elif direction == \"down\" and position[1] > 5:\n",
    "        position[1] = position[1] - speed + random.normalvariate(0, sigma)\n",
    "    elif direction == \"right\" and position[0] < 795:\n",
    "        position[0] = position[0] + speed + random.normalvariate(0, sigma)\n",
    "    elif direction == \"left\" and position[0] > 5:\n",
    "        position[0] = position[0] - speed + random.normalvariate(0, sigma)\n",
    "    else:\n",
    "        position[1] = position[1] + random.normalvariate(0, sigma)\n",
    "        position[0] = position[0] + random.normalvariate(0, sigma)\n",
    "        if position[1]<5:\n",
    "            position[1] = 5\n",
    "        elif position[1]>495:\n",
    "            position[1] = 495\n",
    "        if position[0]<5:\n",
    "            position[0] = 5\n",
    "        elif position[0]>495:\n",
    "            position[0] = 495\n",
    "\n",
    "    return position"
   ]
  },
  {
   "cell_type": "code",
   "execution_count": 3,
   "metadata": {},
   "outputs": [
    {
     "name": "stderr",
     "output_type": "stream",
     "text": [
      "<ipython-input-3-931943a02ac3>:65: DeprecationWarning: an integer is required (got type float).  Implicit conversion to integers using __int__ is deprecated, and may be removed in a future version of Python.\n",
      "  pygame.draw.circle(screen, (0,255,255), to_pygame(position,800), 10)     #actual position\n"
     ]
    }
   ],
   "source": [
    "screen = pygame.display.set_mode([800,800])\n",
    "pygame.display.set_caption(\"EKF\")\n",
    "\n",
    "crashed = False\n",
    "\n",
    "### checkpoints\n",
    "checkpoints = [\n",
    "    [100, 100],\n",
    "    [100, 600],\n",
    "    [300, 400],\n",
    "    [700, 300],\n",
    "    [700, 600]\n",
    "]\n",
    "\n",
    "terminal_speed = 8\n",
    "ticker = 0\n",
    "position = [300,300]\n",
    "estimate = deepcopy(position)\n",
    "\n",
    "sigma_control = 2\n",
    "\n",
    "while not crashed:\n",
    "    \n",
    "    ### taking care of keypresses\n",
    "    keys=pygame.key.get_pressed()\n",
    "    if keys[pygame.K_w]:\n",
    "        if ticker == 0:\n",
    "            position = move(\"up\", terminal_speed, position, sigma_control)\n",
    "        ticker = (ticker+1)%50\n",
    "        speed = [0, terminal_speed]\n",
    "    elif keys[pygame.K_s]:\n",
    "        if ticker == 0:\n",
    "            position = move(\"down\", terminal_speed, position, sigma_control)\n",
    "        ticker = (ticker+1)%50\n",
    "        speed = [0, -terminal_speed]\n",
    "    elif keys[pygame.K_a]:\n",
    "        if ticker == 0:\n",
    "            position = move(\"left\", terminal_speed, position, sigma_control)\n",
    "        ticker = (ticker+1)%50\n",
    "        speed = [-terminal_speed, 0]\n",
    "    elif keys[pygame.K_d]:\n",
    "        if ticker == 0:\n",
    "            position = move(\"right\", terminal_speed, position, sigma_control)\n",
    "        ticker = (ticker+1)%50\n",
    "        speed = [terminal_speed, 0]\n",
    "    else:\n",
    "        if ticker == 0:\n",
    "            position = move(\"stay\", terminal_speed, position, sigma_control)\n",
    "        ticker = (ticker+1)%50\n",
    "        speed = [0,0]\n",
    "        \n",
    "    for event in pygame.event.get():\n",
    "        if event.type == pygame.KEYDOWN:\n",
    "            if event.unicode == \"q\":\n",
    "                crashed = True\n",
    "            \n",
    "    if crashed:\n",
    "        exit()\n",
    "        \n",
    "    ### drawing elements on the screen\n",
    "    screen.fill((255,255,255))\n",
    "    for checkpoint in checkpoints:\n",
    "        pygame.draw.circle(screen, (255,0,0), to_pygame(checkpoint,800), 10)\n",
    "    pygame.draw.circle(screen, (255,0,255), to_pygame(estimate,800), 15)    #predicted position\n",
    "    pygame.draw.circle(screen, (0,255,255), to_pygame(position,800), 10)     #actual position\n",
    "    pygame.display.update()"
   ]
  }
 ],
 "metadata": {
  "kernelspec": {
   "display_name": "Python 3",
   "language": "python",
   "name": "python3"
  },
  "language_info": {
   "codemirror_mode": {
    "name": "ipython",
    "version": 3
   },
   "file_extension": ".py",
   "mimetype": "text/x-python",
   "name": "python",
   "nbconvert_exporter": "python",
   "pygments_lexer": "ipython3",
   "version": "3.8.3"
  }
 },
 "nbformat": 4,
 "nbformat_minor": 4
}
