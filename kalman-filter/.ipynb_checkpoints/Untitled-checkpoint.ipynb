{
 "cells": [
  {
   "cell_type": "markdown",
   "metadata": {},
   "source": [
    "### Kalman Filter toy problem:\n",
    "\n",
    "In this problem, we will try to estimate the position (height) of an elevator using simple Kalman Filter. The controls given to the elevator are move up or down with certain speed. The elevator has a sensor which measures its distance from the roof. \n",
    "\n",
    "*I couldn't think of simpler problem to demonstrate Kalman Filtering algorithm :P*"
   ]
  },
  {
   "cell_type": "code",
   "execution_count": 1,
   "metadata": {},
   "outputs": [
    {
     "name": "stdout",
     "output_type": "stream",
     "text": [
      "pygame 2.0.0.dev6 (SDL 2.0.10, python 3.8.3)\n",
      "Hello from the pygame community. https://www.pygame.org/contribute.html\n"
     ]
    }
   ],
   "source": [
    "import pygame\n",
    "import numpy as np\n",
    "import os\n",
    "import random\n",
    "from copy import deepcopy"
   ]
  },
  {
   "cell_type": "code",
   "execution_count": 2,
   "metadata": {},
   "outputs": [],
   "source": [
    "def get_measurement_from_sensor(position, sigma):\n",
    "    measurement = position[1] + random.normalvariate(0, sigma)\n",
    "    return measurement\n",
    "\n",
    "def kalman_filter(position, z, speed, Q, R, sigma):\n",
    "    ut_ = deepcopy(position[1])\n",
    "    ut = ut_ + speed\n",
    "    sigma_ = sigma + R\n",
    "    \n",
    "    K = sigma_/(sigma_+Q)\n",
    "    ut = ut + K*(z - ut)\n",
    "    sigma = (1 - K)*sigma_\n",
    "    \n",
    "    return [position[0], ut], sigma"
   ]
  },
  {
   "cell_type": "code",
   "execution_count": 3,
   "metadata": {},
   "outputs": [
    {
     "name": "stderr",
     "output_type": "stream",
     "text": [
      "<ipython-input-3-946a5c3ce288>:65: DeprecationWarning: an integer is required (got type float).  Implicit conversion to integers using __int__ is deprecated, and may be removed in a future version of Python.\n",
      "  pygame.draw.circle(screen, (255,0,255), estimate, 15)    #predicted position\n",
      "<ipython-input-3-946a5c3ce288>:66: DeprecationWarning: an integer is required (got type float).  Implicit conversion to integers using __int__ is deprecated, and may be removed in a future version of Python.\n",
      "  pygame.draw.circle(screen, (0,255,255), position, 10)     #actual position\n"
     ]
    }
   ],
   "source": [
    "def move(direction, speed, positon, sigma):\n",
    "    if direction == \"up\" and position[1] > 8:\n",
    "        position[1] = position[1] - speed + random.normalvariate(0, sigma)\n",
    "        speed = -speed\n",
    "    elif direction == \"down\" and position[1] < 492:\n",
    "        position[1] = position[1] + speed + random.normalvariate(0, sigma)\n",
    "    else:\n",
    "        position[1] = position[1] + random.normalvariate(0, sigma)\n",
    "        if position[1]<8:\n",
    "            position[1] = 8\n",
    "        elif position[1]>492:\n",
    "            position[1] = 492\n",
    "        speed = 0\n",
    "    return position, speed\n",
    "        \n",
    "screen = pygame.display.set_mode([500,500])\n",
    "pygame.display.set_caption(\"Kalman Filter\")\n",
    "\n",
    "crashed = False\n",
    "\n",
    "position = [250,250]\n",
    "estimate = deepcopy(position)\n",
    "terminal_speed = 2\n",
    "speed = 0\n",
    "ticker = 0\n",
    "sigma_sensor = 5\n",
    "sigma_control = 1\n",
    "sigma = 10\n",
    "\n",
    "while not crashed:\n",
    "    speed = 0\n",
    "    \n",
    "    ### taking care of keypresses\n",
    "    keys=pygame.key.get_pressed()\n",
    "    if keys[pygame.K_w]:\n",
    "        if ticker == 0:\n",
    "            position, speed = move(\"up\", terminal_speed, position, sigma_control)\n",
    "        ticker = (ticker+1)%50\n",
    "    elif keys[pygame.K_s]:\n",
    "        if ticker == 0:\n",
    "            position, speed = move(\"down\", terminal_speed, position, sigma_control)\n",
    "        ticker = (ticker+1)%50 \n",
    "    else:\n",
    "        if ticker == 0:\n",
    "            position, speed = move(\"stay\", terminal_speed, position, sigma_control)\n",
    "        ticker = (ticker+1)%50\n",
    "        \n",
    "    for event in pygame.event.get():\n",
    "        if event.type == pygame.KEYDOWN:\n",
    "            if event.unicode == \"q\":\n",
    "                crashed = True\n",
    "            \n",
    "    if crashed:\n",
    "        exit()\n",
    "    \n",
    "    if ticker==1:  ### to prevent extra steps by kalman filter\n",
    "        measurement = get_measurement_from_sensor(position, sigma_sensor)\n",
    "        estimate, sigma = kalman_filter(estimate, measurement, speed, sigma_sensor, sigma_control, sigma)\n",
    "    \n",
    "    ### drawing items on screen\n",
    "    screen.fill((0,0,0))\n",
    "    pygame.draw.line(screen, (255,255,255), [250,0], [250, 500])\n",
    "    pygame.draw.circle(screen, (255,255,255), [250,0], 7)\n",
    "    pygame.draw.circle(screen, (255,255,255), [250,500], 7)\n",
    "    pygame.draw.circle(screen, (255,0,255), estimate, 15)    #predicted position\n",
    "    pygame.draw.circle(screen, (0,255,255), position, 10)     #actual position\n",
    "    pygame.display.update()"
   ]
  },
  {
   "cell_type": "code",
   "execution_count": null,
   "metadata": {},
   "outputs": [],
   "source": []
  }
 ],
 "metadata": {
  "kernelspec": {
   "display_name": "Python 3",
   "language": "python",
   "name": "python3"
  },
  "language_info": {
   "codemirror_mode": {
    "name": "ipython",
    "version": 3
   },
   "file_extension": ".py",
   "mimetype": "text/x-python",
   "name": "python",
   "nbconvert_exporter": "python",
   "pygments_lexer": "ipython3",
   "version": "3.8.3"
  }
 },
 "nbformat": 4,
 "nbformat_minor": 4
}
