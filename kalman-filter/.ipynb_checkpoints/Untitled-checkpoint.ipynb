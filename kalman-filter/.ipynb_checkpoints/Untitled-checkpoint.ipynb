{
 "cells": [
  {
   "cell_type": "markdown",
   "metadata": {},
   "source": [
    "### Kalman Filter toy problem:\n",
    "\n",
    "In this problem, we will try to estimate the position (height) of an elevator using simple Kalman Filter. The controls given to the elevator are move up or down with certain speed. The elevator has a sensor which measures its distance from the roof. "
   ]
  },
  {
   "cell_type": "code",
   "execution_count": 1,
   "metadata": {},
   "outputs": [
    {
     "name": "stdout",
     "output_type": "stream",
     "text": [
      "pygame 2.0.0.dev6 (SDL 2.0.10, python 3.8.3)\n",
      "Hello from the pygame community. https://www.pygame.org/contribute.html\n"
     ]
    }
   ],
   "source": [
    "import pygame\n",
    "import numpy as np\n",
    "import os\n",
    "import random"
   ]
  },
  {
   "cell_type": "code",
   "execution_count": null,
   "metadata": {},
   "outputs": [],
   "source": [
    "def get_measurement_from_sensor(position):\n",
    "    sigma_sensor = 5\n",
    "    measurement = position[1] + random.normalvariate(0, sigma_sensor)\n",
    "    return measurement"
   ]
  },
  {
   "cell_type": "code",
   "execution_count": 2,
   "metadata": {},
   "outputs": [],
   "source": [
    "def move(direction, speed, positon):\n",
    "    if direction == \"up\" and position[1] > 8:\n",
    "        position[1] = position[1] - speed\n",
    "    elif direction == \"down\" and position[1] < 492:\n",
    "        position[1] = position[1] + speed\n",
    "    else:\n",
    "        speed = 0\n",
    "    return position, speed\n",
    "        \n",
    "screen = pygame.display.set_mode([500,500])\n",
    "pygame.display.set_caption(\"Kalman Filter\")\n",
    "\n",
    "crashed = False\n",
    "\n",
    "position = [250,250]\n",
    "terminal_speed = 2\n",
    "speed = 0\n",
    "ticker = 0\n",
    "while not crashed:\n",
    "    speed = 0\n",
    "    \n",
    "    ### taking care of keypresses\n",
    "    keys=pygame.key.get_pressed()\n",
    "    if keys[pygame.K_w]:\n",
    "        if ticker == 0:\n",
    "            position, speed = move(\"up\", terminal_speed, position)\n",
    "        ticker = (ticker+1)%50\n",
    "    elif keys[pygame.K_s]:\n",
    "        if ticker == 0:\n",
    "            position, speed = move(\"down\", terminal_speed, position)\n",
    "        ticker = (ticker+1)%50   \n",
    "    for event in pygame.event.get():\n",
    "        if event.type == pygame.KEYDOWN:\n",
    "            if event.unicode == \"q\":\n",
    "                crashed = True\n",
    "            \n",
    "    if crashed:\n",
    "        exit()\n",
    "    \n",
    "    if ticker==1:  ### to prevent extra steps by kalman filter\n",
    "        measurement = get_measurement_from_sensor(position)\n",
    "        estimate = kalman_filter()\n",
    "    \n",
    "    ### drawing items on screen\n",
    "    screen.fill((0,0,0))\n",
    "    pygame.draw.line(screen, (255,255,255), [250,10], [250, 490])\n",
    "    pygame.draw.circle(screen, (255,255,255), [250,0], 5)\n",
    "    pygame.draw.circle(screen, (255,255,255), [250,500], 5)\n",
    "    pygame.draw.circle(screen, (255,0,255), [250,250], 15)    #predicted position\n",
    "    pygame.draw.circle(screen, (0,255,255), position, 10)     #actual position\n",
    "    pygame.display.update()"
   ]
  },
  {
   "cell_type": "code",
   "execution_count": null,
   "metadata": {},
   "outputs": [],
   "source": []
  }
 ],
 "metadata": {
  "kernelspec": {
   "display_name": "Python 3",
   "language": "python",
   "name": "python3"
  },
  "language_info": {
   "codemirror_mode": {
    "name": "ipython",
    "version": 3
   },
   "file_extension": ".py",
   "mimetype": "text/x-python",
   "name": "python",
   "nbconvert_exporter": "python",
   "pygments_lexer": "ipython3",
   "version": "3.8.3"
  }
 },
 "nbformat": 4,
 "nbformat_minor": 4
}
