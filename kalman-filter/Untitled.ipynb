{
 "cells": [
  {
   "cell_type": "code",
   "execution_count": 2,
   "metadata": {},
   "outputs": [
    {
     "name": "stdout",
     "output_type": "stream",
     "text": [
      "pygame 2.0.0.dev6 (SDL 2.0.10, python 3.8.3)\n",
      "Hello from the pygame community. https://www.pygame.org/contribute.html\n"
     ]
    }
   ],
   "source": [
    "import pygame\n",
    "import numpy as np\n",
    "import os"
   ]
  },
  {
   "cell_type": "code",
   "execution_count": 3,
   "metadata": {},
   "outputs": [],
   "source": [
    "screen = pygame.display.set_mode([500,500])\n",
    "pygame.display.set_caption(\"Kalman Filter\")\n",
    "\n",
    "crashed = False\n",
    "\n",
    "position = (250,250)\n",
    "terminal_speed = 10\n",
    "while not crashed:\n",
    "    for event in pygame.event.get():\n",
    "        if event.type == pygame.KEYDOWN:\n",
    "            if event.unicode == \"w\":\n",
    "                move(\"up\", terminal_speed)\n",
    "            elif event.unicode == \"s\":\n",
    "                move(\"down\", terminal_speed)\n",
    "            elif event.unicode == \"q\":\n",
    "                crashed = True\n",
    "    if crashed:\n",
    "        exit()\n",
    "    \n",
    "    screen.fill((0,0,0))\n",
    "    pygame.draw.line(screen, (255,255,255), [250,10], [250, 490])\n",
    "    pygame.draw.circle(screen, (255,255,255), [250,10], 5)\n",
    "    pygame.draw.circle(screen, (255,255,255), [250,490], 5)\n",
    "    pygame.display.update()"
   ]
  },
  {
   "cell_type": "code",
   "execution_count": null,
   "metadata": {},
   "outputs": [],
   "source": []
  }
 ],
 "metadata": {
  "kernelspec": {
   "display_name": "Python 3",
   "language": "python",
   "name": "python3"
  },
  "language_info": {
   "codemirror_mode": {
    "name": "ipython",
    "version": 3
   },
   "file_extension": ".py",
   "mimetype": "text/x-python",
   "name": "python",
   "nbconvert_exporter": "python",
   "pygments_lexer": "ipython3",
   "version": "3.8.3"
  }
 },
 "nbformat": 4,
 "nbformat_minor": 4
}
